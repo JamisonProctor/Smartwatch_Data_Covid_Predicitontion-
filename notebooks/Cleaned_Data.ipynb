{
 "cells": [
  {
   "cell_type": "code",
   "execution_count": 1,
   "id": "3478970d-f3a3-4170-8a48-2885ac40fb8b",
   "metadata": {},
   "outputs": [
    {
     "ename": "",
     "evalue": "",
     "output_type": "error",
     "traceback": [
      "\u001b[1;31mThe Kernel crashed while executing code in the the current cell or a previous cell. Please review the code in the cell(s) to identify a possible cause of the failure. Click <a href='https://aka.ms/vscodeJupyterKernelCrash'>here</a> for more info. View Jupyter <a href='command:jupyter.viewOutput'>log</a> for further details."
     ]
    },
    {
     "ename": "",
     "evalue": "",
     "output_type": "error",
     "traceback": [
      "\u001b[1;31mCanceled future for execute_request message before replies were done"
     ]
    }
   ],
   "source": [
    "import numpy as np\n",
    "import pandas as pd\n",
    "import os\n",
    "import torch\n",
    "import matplotlib.pyplot as pl"
   ]
  },
  {
   "cell_type": "code",
   "execution_count": null,
   "id": "794c8e24-bd66-462e-b459-ecf331e55dd5",
   "metadata": {},
   "outputs": [],
   "source": [
    "#user1=pd.read_csv('COVID-19-Wearables/A06L7KF_hr.csv')\n",
    "names=os.listdir('COVID-19-Wearables/')\n",
    "F_dict={}\n",
    "for i in range(len(names)):\n",
    "    splits=names[i].split(\"_\")\n",
    "    if splits[1]==\"steps.csv\":\n",
    "        F_dict[splits[0]]=pd.read_csv('COVID-19-Wearables/'+names[i])\n",
    "for i in range(len(names)):\n",
    "    splits=names[i].split(\"_\")\n",
    "    if splits[1]==\"hr.csv\":\n",
    "        hrdf=pd.read_csv('COVID-19-Wearables/'+names[i])\n",
    "        F_dict[splits[0]]=F_dict[splits[0]].merge(hrdf, left_on='datetime',right_on='datetime')\n",
    "        # F_dict[splits[0]]=torch.tensor(F_dict[splits[0]][['heartrate','steps']].values)\n",
    "        F_dict[splits[0]]=F_dict[splits[0]][['heartrate','steps','datetime']]"
   ]
  },
  {
   "cell_type": "code",
   "execution_count": null,
   "id": "4eb4a069-48dd-480e-a854-8d27788c4dcb",
   "metadata": {},
   "outputs": [],
   "source": [
    "# print(F_dict)\n",
    "Rhr_dict=F_dict.copy()\n",
    "Normal_dict={}\n",
    "Anomaly_dict={}\n",
    "symp_df=pd.read_csv('labels.csv')\n",
    "print(symp_df[['ParticipantID','Symptom_dates']])\n",
    "# print(Rhr_dict['A06L7KF'].shape)\n",
    "for i in Rhr_dict:\n",
    "    Rhr_dict[i]=Rhr_dict[i][F_dict[i]['steps']==0]\n",
    "for i in symp_df['ParticipantID']:\n",
    "    Anomaly_dict[i]=\n",
    "# print(Rhr_dict)"
   ]
  },
  {
   "cell_type": "code",
   "execution_count": null,
   "id": "3e82457e-74e6-4189-93ec-e4921a988074",
   "metadata": {},
   "outputs": [],
   "source": [
    "print(F_dictrr.shape)"
   ]
  },
  {
   "cell_type": "code",
   "execution_count": null,
   "id": "9dde28c4-b303-4e96-8d9d-8d130f2cbcf4",
   "metadata": {},
   "outputs": [],
   "source": [
    "print(steps_)"
   ]
  },
  {
   "cell_type": "code",
   "execution_count": null,
   "id": "67381983-fd5c-43a0-9050-d07709100852",
   "metadata": {},
   "outputs": [],
   "source": [
    "print(F_dict['A06L7KF'][:,1]==0)"
   ]
  },
  {
   "cell_type": "code",
   "execution_count": null,
   "id": "92a9ae9a-693c-461c-83ac-8ebde6ed3391",
   "metadata": {},
   "outputs": [],
   "source": [
    "steps_=[]\n",
    "heart_=[]\n",
    "for i in F_dict:\n",
    "    rest_hr=F_dict[i][:,1]==0\n",
    "    active_hr=F_dict[i][:,1]>10\n",
    "    _,steps=torch.mean(F_dict[i][active_hr].float(),axis=0)\n",
    "    heart,_=torch.mean(F_dict[i][rest_hr].float(),axis=0)\n",
    "    steps_.append(steps)\n",
    "    heart_.append(heart)\n",
    "pl.scatter(steps_,heart_)"
   ]
  },
  {
   "cell_type": "code",
   "execution_count": null,
   "id": "1f71b5a6-e13c-4c72-9ca8-08bd3867e322",
   "metadata": {},
   "outputs": [],
   "source": []
  }
 ],
 "metadata": {
  "kernelspec": {
   "display_name": "Python 3.8.13 ('makeathon')",
   "language": "python",
   "name": "python3"
  },
  "language_info": {
   "codemirror_mode": {
    "name": "ipython",
    "version": 3
   },
   "file_extension": ".py",
   "mimetype": "text/x-python",
   "name": "python",
   "nbconvert_exporter": "python",
   "pygments_lexer": "ipython3",
   "version": "3.8.13"
  },
  "vscode": {
   "interpreter": {
    "hash": "1be532f50f8abee3d64c5fdaba5a2ab209055ed4eaf30f06feb85c369fcb37cc"
   }
  }
 },
 "nbformat": 4,
 "nbformat_minor": 5
}
