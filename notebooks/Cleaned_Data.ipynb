{
 "cells": [
  {
   "cell_type": "code",
   "execution_count": 66,
   "id": "3478970d-f3a3-4170-8a48-2885ac40fb8b",
   "metadata": {},
   "outputs": [],
   "source": [
    "import numpy as np\n",
    "import pandas as pd\n",
    "import os\n",
    "import torch\n",
    "import matplotlib.pyplot as pl"
   ]
  },
  {
   "cell_type": "code",
   "execution_count": 69,
   "id": "794c8e24-bd66-462e-b459-ecf331e55dd5",
   "metadata": {},
   "outputs": [],
   "source": [
    "user1=pd.read_csv('COVID-19-Wearables/A06L7KF_hr.csv')\n",
    "names=os.listdir('COVID-19-Wearables/')\n",
    "F_dict={}\n",
    "for i in range(len(names)):\n",
    "    splits=names[i].split(\"_\")\n",
    "    if splits[1]==\"steps.csv\":\n",
    "        F_dict[splits[0]]=pd.read_csv('COVID-19-Wearables/'+names[i])\n",
    "for i in range(len(names)):\n",
    "    splits=names[i].split(\"_\")\n",
    "    if splits[1]==\"hr.csv\":\n",
    "        hrdf=pd.read_csv('COVID-19-Wearables/'+names[i])\n",
    "        F_dict[splits[0]]=F_dict[splits[0]].merge(hrdf, left_on='datetime',right_on='datetime')\n",
    "        # F_dict[splits[0]]=torch.tensor(F_dict[splits[0]][['heartrate','steps']].values)\n",
    "        F_dict[splits[0]]=F_dict[splits[0]][['heartrate','steps','datetime']]"
   ]
  },
  {
   "cell_type": "code",
   "execution_count": 113,
   "id": "4eb4a069-48dd-480e-a854-8d27788c4dcb",
   "metadata": {},
   "outputs": [
    {
     "name": "stdout",
     "output_type": "stream",
     "text": [
      "   ParticipantID                       Symptom_dates\n",
      "0        AFPB8J2  [Timestamp('2026-07-14 00:00:00')]\n",
      "1        APGIB2T  [Timestamp('2023-05-22 00:00:00')]\n",
      "2        AQC0L71  [Timestamp('2028-06-17 00:00:00')]\n",
      "3        A0NVTRV  [Timestamp('2023-12-06 00:00:00')]\n",
      "4        AOYM4KG  [Timestamp('2022-11-14 00:00:00')]\n",
      "5        AR4FPCC  [Timestamp('2027-02-16 00:00:00')]\n",
      "6        A4G0044  [Timestamp('2027-03-04 00:00:00')]\n",
      "7        AUILKHG  [Timestamp('2027-07-18 00:00:00')]\n",
      "8        AD77K91  [Timestamp('2023-09-04 00:00:00')]\n",
      "9        A3OU183  [Timestamp('2024-11-23 00:00:00')]\n",
      "10       AX6281V  [Timestamp('2024-01-13 00:00:00')]\n",
      "11       A4E0D03  [Timestamp('2028-03-13 00:00:00')]\n",
      "12       AS2MVDL  [Timestamp('2025-03-02 00:00:00')]\n",
      "13       AKXN5ZZ  [Timestamp('2028-01-16 00:00:00')]\n",
      "14       AF3J1YC  [Timestamp('2025-09-02 00:00:00')]\n",
      "15       AJWW3IY  [Timestamp('2024-08-09 00:00:00')]\n",
      "16       AAXAA7Z  [Timestamp('2023-03-30 00:00:00')]\n",
      "17       AHYIJDV  [Timestamp('2025-01-16 00:00:00')]\n",
      "18       AURCTAK  [Timestamp('2025-03-06 00:00:00')]\n",
      "19       AV2GF3B  [Timestamp('2026-02-12 00:00:00')]\n",
      "20       AJ7TSV9  [Timestamp('2025-01-28 00:00:00')]\n",
      "21       A1K5DRI  [Timestamp('2028-01-21 00:00:00')]\n",
      "22       A7EM0B6  [Timestamp('2023-12-26 00:00:00')]\n",
      "23       ASFODQR  [Timestamp('2024-08-14 00:00:00')]\n",
      "24       ATHKM6V  [Timestamp('2024-03-06 00:00:00')]\n",
      "25       A0VFT1N  [Timestamp('2023-10-13 00:00:00')]\n",
      "26       AZIK4ZA  [Timestamp('2024-07-29 00:00:00')]\n",
      "27       AXI1PBS  [Timestamp('2026-04-30 00:00:00')]\n",
      "28       AYWIEKR  [Timestamp('2023-04-07 00:00:00')]\n",
      "29       AUY8KYW  [Timestamp('2024-03-18 00:00:00')]\n",
      "30       A36HR6Y  [Timestamp('2023-04-06 00:00:00')]\n",
      "31       AYEFCWQ  [Timestamp('2025-07-07 00:00:00')]\n",
      "32       AA2KP1S  [Timestamp('2025-01-06 00:00:00')]\n",
      "33       AIFDJZB  [Timestamp('2023-11-07 00:00:00')]\n",
      "34       AJMQUVV  [Timestamp('2024-09-05 00:00:00')]\n",
      "35       AMV7EQF  [Timestamp('2027-06-09 00:00:00')]\n",
      "36       A1ZJ41O  [Timestamp('2027-08-06 00:00:00')]\n",
      "37       AK7YRBU  [Timestamp('2025-04-12 00:00:00')]\n",
      "38       A35BJNV  [Timestamp('2026-08-24 00:00:00')]\n",
      "39       AEOBCFJ  [Timestamp('2029-01-11 00:00:00')]\n",
      "40       AOGFRXL  [Timestamp('2028-08-19 00:00:00')]\n",
      "41       ALKAXMZ  [Timestamp('2024-10-01 00:00:00')]\n",
      "42       AFHOHOM  [Timestamp('2027-01-17 00:00:00')]\n"
     ]
    }
   ],
   "source": [
    "# print(F_dict)\n",
    "Rhr_dict=F_dict.copy()\n",
    "Normal_dict={}\n",
    "Anomaly_dict={}\n",
    "symp_df=pd.read_csv('labels.csv')\n",
    "print(symp_df[['ParticipantID','Symptom_dates']])\n",
    "# print(Rhr_dict['A06L7KF'].shape)\n",
    "for i in Rhr_dict:\n",
    "    Rhr_dict[i]=Rhr_dict[i][F_dict[i]['steps']==0]\n",
    "for i in symp_df['ParticipantID']:\n",
    "    Anomaly_dict[i]=\n",
    "# print(Rhr_dict)"
   ]
  },
  {
   "cell_type": "code",
   "execution_count": 112,
   "id": "3e82457e-74e6-4189-93ec-e4921a988074",
   "metadata": {},
   "outputs": [
    {
     "ename": "NameError",
     "evalue": "name 'F_dictrr' is not defined",
     "output_type": "error",
     "traceback": [
      "\u001b[0;31m---------------------------------------------------------------------------\u001b[0m",
      "\u001b[0;31mNameError\u001b[0m                                 Traceback (most recent call last)",
      "Input \u001b[0;32mIn [112]\u001b[0m, in \u001b[0;36m<cell line: 1>\u001b[0;34m()\u001b[0m\n\u001b[0;32m----> 1\u001b[0m \u001b[38;5;28mprint\u001b[39m(\u001b[43mF_dictrr\u001b[49m\u001b[38;5;241m.\u001b[39mshape)\n",
      "\u001b[0;31mNameError\u001b[0m: name 'F_dictrr' is not defined"
     ]
    }
   ],
   "source": [
    "print(F_dictrr.shape)"
   ]
  },
  {
   "cell_type": "code",
   "execution_count": 79,
   "id": "9dde28c4-b303-4e96-8d9d-8d130f2cbcf4",
   "metadata": {},
   "outputs": [
    {
     "name": "stdout",
     "output_type": "stream",
     "text": [
      "[tensor(6.7636), tensor(5.7712), tensor(8.6588), tensor(5.6198), tensor(23.2285), tensor(5.2297), tensor(12.2218), tensor(16.0874), tensor(7.0364), tensor(6.1770), tensor(3.7839), tensor(4.6945), tensor(4.4278), tensor(2.6866), tensor(0.6168), tensor(8.9441), tensor(17.5772), tensor(6.7720), tensor(11.6609), tensor(3.9096), tensor(9.5584), tensor(4.3392), tensor(10.0363), tensor(6.7346), tensor(nan), tensor(4.3660), tensor(6.7153), tensor(11.5427), tensor(2.6959), tensor(9.5918), tensor(6.7147), tensor(10.4962), tensor(4.4670), tensor(10.9470), tensor(8.0543), tensor(5.3758), tensor(18.6176), tensor(3.0545), tensor(4.5224), tensor(3.6836), tensor(15.0370), tensor(4.1003), tensor(8.0006), tensor(6.9318), tensor(4.1359), tensor(5.0384), tensor(10.9094), tensor(13.5047), tensor(5.1536), tensor(8.0641), tensor(7.1501), tensor(5.9473), tensor(4.7344), tensor(10.9597), tensor(9.7808), tensor(7.7448), tensor(8.4235), tensor(3.1867), tensor(7.5949), tensor(4.6790), tensor(2.7177), tensor(6.4076), tensor(20.4594), tensor(5.2851), tensor(7.5187), tensor(4.6148), tensor(4.3822), tensor(9.4231), tensor(6.7015), tensor(3.5041), tensor(2.5629), tensor(6.7725), tensor(22.5773), tensor(3.7107), tensor(6.3076), tensor(7.4534), tensor(7.0682), tensor(1.5831), tensor(7.8586), tensor(6.7158), tensor(4.1987), tensor(8.1013), tensor(7.1150), tensor(2.7167), tensor(8.6798), tensor(11.8279), tensor(9.8942), tensor(2.7009), tensor(7.8014), tensor(9.2248), tensor(9.9938), tensor(7.4582), tensor(8.7999), tensor(10.4701), tensor(5.0648), tensor(2.8868), tensor(1.3782), tensor(1.2216), tensor(14.4573), tensor(6.7436), tensor(11.8989), tensor(8.4228), tensor(3.9355), tensor(7.9103), tensor(4.7244), tensor(2.0070), tensor(7.2516), tensor(6.4559), tensor(3.7432), tensor(5.3347), tensor(2.5724), tensor(5.2159), tensor(5.3342), tensor(5.6723), tensor(18.3293), tensor(6.6981), tensor(11.6894)]\n"
     ]
    }
   ],
   "source": [
    "print(steps_)"
   ]
  },
  {
   "cell_type": "code",
   "execution_count": 1,
   "id": "67381983-fd5c-43a0-9050-d07709100852",
   "metadata": {},
   "outputs": [
    {
     "ename": "NameError",
     "evalue": "name 'F_dict' is not defined",
     "output_type": "error",
     "traceback": [
      "\u001b[0;31m---------------------------------------------------------------------------\u001b[0m",
      "\u001b[0;31mNameError\u001b[0m                                 Traceback (most recent call last)",
      "Input \u001b[0;32mIn [1]\u001b[0m, in \u001b[0;36m<cell line: 1>\u001b[0;34m()\u001b[0m\n\u001b[0;32m----> 1\u001b[0m \u001b[38;5;28mprint\u001b[39m(\u001b[43mF_dict\u001b[49m[\u001b[38;5;124m'\u001b[39m\u001b[38;5;124mA06L7KF\u001b[39m\u001b[38;5;124m'\u001b[39m][:,\u001b[38;5;241m1\u001b[39m]\u001b[38;5;241m==\u001b[39m\u001b[38;5;241m0\u001b[39m)\n",
      "\u001b[0;31mNameError\u001b[0m: name 'F_dict' is not defined"
     ]
    }
   ],
   "source": [
    "print(F_dict['A06L7KF'][:,1]==0)"
   ]
  },
  {
   "cell_type": "code",
   "execution_count": 68,
   "id": "92a9ae9a-693c-461c-83ac-8ebde6ed3391",
   "metadata": {},
   "outputs": [
    {
     "data": {
      "text/plain": [
       "<matplotlib.collections.PathCollection at 0x7ff2a210b520>"
      ]
     },
     "execution_count": 68,
     "metadata": {},
     "output_type": "execute_result"
    },
    {
     "data": {
      "image/png": "[encoded data removed]",
      "text/plain": [
       "<Figure size 432x288 with 1 Axes>"
      ]
     },
     "metadata": {
      "needs_background": "light"
     },
     "output_type": "display_data"
    }
   ],
   "source": [
    "steps_=[]\n",
    "heart_=[]\n",
    "for i in F_dict:\n",
    "    rest_hr=F_dict[i][:,1]==0\n",
    "    active_hr=F_dict[i][:,1]>10\n",
    "    _,steps=torch.mean(F_dict[i][active_hr].float(),axis=0)\n",
    "    heart,_=torch.mean(F_dict[i][rest_hr].float(),axis=0)\n",
    "    steps_.append(steps)\n",
    "    heart_.append(heart)\n",
    "pl.scatter(steps_,heart_)"
   ]
  },
  {
   "cell_type": "code",
   "execution_count": null,
   "id": "1f71b5a6-e13c-4c72-9ca8-08bd3867e322",
   "metadata": {},
   "outputs": [],
   "source": []
  }
 ],
 "metadata": {
  "kernelspec": {
   "display_name": "Python 3 (ipykernel)",
   "language": "python",
   "name": "python3"
  },
  "language_info": {
   "codemirror_mode": {
    "name": "ipython",
    "version": 3
   },
   "file_extension": ".py",
   "mimetype": "text/x-python",
   "name": "python",
   "nbconvert_exporter": "python",
   "pygments_lexer": "ipython3",
   "version": "3.8.10"
  }
 },
 "nbformat": 4,
 "nbformat_minor": 5
}
