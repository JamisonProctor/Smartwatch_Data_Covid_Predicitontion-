{
 "cells": [
  {
   "cell_type": "markdown",
   "metadata": {},
   "source": [
    "This notebook is used to complete the following actions:\n",
    "- Load both train and test datasets.\n",
    "- Process features to reduce complexity.\n",
    "- Combine train and test datasets into a single dataframe.\n",
    "- Cluster the data. \n",
    "- Identify which combination of the pretrained best represented each cluster. "
   ]
  },
  {
   "cell_type": "code",
   "execution_count": 198,
   "metadata": {},
   "outputs": [],
   "source": [
    "import numpy as np\n",
    "import pandas as pd\n",
    "import matplotlib.pyplot as plt\n",
    "import seaborn as sns\n",
    "import pickle\n",
    "\n",
    "from datetime import datetime\n",
    "\n",
    "from sklearn.preprocessing import StandardScaler,  RobustScaler\n",
    "from sklearn.pipeline import Pipeline\n",
    "\n",
    "from sklearn.cluster import KMeans\n",
    "from sklearn_extra.cluster import KMedoids\n",
    "\n",
    "from sklearn.impute import SimpleImputer"
   ]
  },
  {
   "cell_type": "code",
   "execution_count": 199,
   "metadata": {},
   "outputs": [],
   "source": [
    "#load train data\n",
    "with open('/Users/jamisonproctor/Desktop/team_ceres/data/saved_dictionary.pkl', 'rb') as f:\n",
    "    loaded_dict = pickle.load(f)"
   ]
  },
  {
   "cell_type": "code",
   "execution_count": 200,
   "metadata": {},
   "outputs": [],
   "source": [
    "#load test data\n",
    "with open('/Users/jamisonproctor/Desktop/team_ceres/data/raw/test_array.pkl', 'rb') as f:\n",
    "    loaded_dict_test = pickle.load(f)"
   ]
  },
  {
   "cell_type": "code",
   "execution_count": 201,
   "metadata": {},
   "outputs": [
    {
     "name": "stderr",
     "output_type": "stream",
     "text": [
      "/Users/jamisonproctor/opt/anaconda3/envs/makeathon/lib/python3.8/site-packages/numpy/core/fromnumeric.py:3440: RuntimeWarning: Mean of empty slice.\n",
      "  return _methods._mean(a, axis=axis, dtype=dtype,\n",
      "/Users/jamisonproctor/opt/anaconda3/envs/makeathon/lib/python3.8/site-packages/numpy/core/_methods.py:189: RuntimeWarning: invalid value encountered in double_scalars\n",
      "  ret = ret.dtype.type(ret / rcount)\n",
      "/Users/jamisonproctor/opt/anaconda3/envs/makeathon/lib/python3.8/site-packages/numpy/core/_methods.py:262: RuntimeWarning: Degrees of freedom <= 0 for slice\n",
      "  ret = _var(a, axis=axis, dtype=dtype, out=out, ddof=ddof,\n",
      "/Users/jamisonproctor/opt/anaconda3/envs/makeathon/lib/python3.8/site-packages/numpy/core/_methods.py:222: RuntimeWarning: invalid value encountered in true_divide\n",
      "  arrmean = um.true_divide(arrmean, div, out=arrmean, casting='unsafe',\n",
      "/Users/jamisonproctor/opt/anaconda3/envs/makeathon/lib/python3.8/site-packages/numpy/core/_methods.py:254: RuntimeWarning: invalid value encountered in double_scalars\n",
      "  ret = ret.dtype.type(ret / rcount)\n",
      "/Users/jamisonproctor/opt/anaconda3/envs/makeathon/lib/python3.8/site-packages/numpy/core/fromnumeric.py:3440: RuntimeWarning: Mean of empty slice.\n",
      "  return _methods._mean(a, axis=axis, dtype=dtype,\n",
      "/Users/jamisonproctor/opt/anaconda3/envs/makeathon/lib/python3.8/site-packages/numpy/core/_methods.py:189: RuntimeWarning: invalid value encountered in double_scalars\n",
      "  ret = ret.dtype.type(ret / rcount)\n",
      "/Users/jamisonproctor/opt/anaconda3/envs/makeathon/lib/python3.8/site-packages/numpy/core/_methods.py:262: RuntimeWarning: Degrees of freedom <= 0 for slice\n",
      "  ret = _var(a, axis=axis, dtype=dtype, out=out, ddof=ddof,\n",
      "/Users/jamisonproctor/opt/anaconda3/envs/makeathon/lib/python3.8/site-packages/numpy/core/_methods.py:222: RuntimeWarning: invalid value encountered in true_divide\n",
      "  arrmean = um.true_divide(arrmean, div, out=arrmean, casting='unsafe',\n",
      "/Users/jamisonproctor/opt/anaconda3/envs/makeathon/lib/python3.8/site-packages/numpy/core/_methods.py:254: RuntimeWarning: invalid value encountered in double_scalars\n",
      "  ret = ret.dtype.type(ret / rcount)\n"
     ]
    },
    {
     "data": {
      "text/html": [
       "<div>\n",
       "<style scoped>\n",
       "    .dataframe tbody tr th:only-of-type {\n",
       "        vertical-align: middle;\n",
       "    }\n",
       "\n",
       "    .dataframe tbody tr th {\n",
       "        vertical-align: top;\n",
       "    }\n",
       "\n",
       "    .dataframe thead th {\n",
       "        text-align: right;\n",
       "    }\n",
       "</style>\n",
       "<table border=\"1\" class=\"dataframe\">\n",
       "  <thead>\n",
       "    <tr style=\"text-align: right;\">\n",
       "      <th></th>\n",
       "      <th>user</th>\n",
       "      <th>hr_mean</th>\n",
       "      <th>hr_median</th>\n",
       "      <th>hr_std</th>\n",
       "    </tr>\n",
       "  </thead>\n",
       "  <tbody>\n",
       "    <tr>\n",
       "      <th>0</th>\n",
       "      <td>APGIB2T</td>\n",
       "      <td>82.54</td>\n",
       "      <td>80.0</td>\n",
       "      <td>10.81</td>\n",
       "    </tr>\n",
       "    <tr>\n",
       "      <th>1</th>\n",
       "      <td>A9ZG5GR</td>\n",
       "      <td>68.06</td>\n",
       "      <td>67.0</td>\n",
       "      <td>11.95</td>\n",
       "    </tr>\n",
       "    <tr>\n",
       "      <th>2</th>\n",
       "      <td>A0N9NV4</td>\n",
       "      <td>81.63</td>\n",
       "      <td>80.0</td>\n",
       "      <td>14.15</td>\n",
       "    </tr>\n",
       "    <tr>\n",
       "      <th>3</th>\n",
       "      <td>AKTGD8X</td>\n",
       "      <td>74.63</td>\n",
       "      <td>70.0</td>\n",
       "      <td>14.68</td>\n",
       "    </tr>\n",
       "    <tr>\n",
       "      <th>4</th>\n",
       "      <td>AE2B3RH</td>\n",
       "      <td>87.79</td>\n",
       "      <td>82.0</td>\n",
       "      <td>18.86</td>\n",
       "    </tr>\n",
       "    <tr>\n",
       "      <th>...</th>\n",
       "      <td>...</td>\n",
       "      <td>...</td>\n",
       "      <td>...</td>\n",
       "      <td>...</td>\n",
       "    </tr>\n",
       "    <tr>\n",
       "      <th>112</th>\n",
       "      <td>A0KX894</td>\n",
       "      <td>76.85</td>\n",
       "      <td>75.0</td>\n",
       "      <td>14.68</td>\n",
       "    </tr>\n",
       "    <tr>\n",
       "      <th>113</th>\n",
       "      <td>AOYM4KG</td>\n",
       "      <td>66.48</td>\n",
       "      <td>60.0</td>\n",
       "      <td>17.2</td>\n",
       "    </tr>\n",
       "    <tr>\n",
       "      <th>114</th>\n",
       "      <td>AZIK4ZA</td>\n",
       "      <td>72.77</td>\n",
       "      <td>66.0</td>\n",
       "      <td>20.8</td>\n",
       "    </tr>\n",
       "    <tr>\n",
       "      <th>115</th>\n",
       "      <td>AWA2KJK</td>\n",
       "      <td>94.74</td>\n",
       "      <td>95.0</td>\n",
       "      <td>15.29</td>\n",
       "    </tr>\n",
       "    <tr>\n",
       "      <th>116</th>\n",
       "      <td>AUY8KYW</td>\n",
       "      <td>66.73</td>\n",
       "      <td>63.0</td>\n",
       "      <td>16.74</td>\n",
       "    </tr>\n",
       "  </tbody>\n",
       "</table>\n",
       "<p>117 rows × 4 columns</p>\n",
       "</div>"
      ],
      "text/plain": [
       "        user hr_mean hr_median hr_std\n",
       "0    APGIB2T   82.54      80.0  10.81\n",
       "1    A9ZG5GR   68.06      67.0  11.95\n",
       "2    A0N9NV4   81.63      80.0  14.15\n",
       "3    AKTGD8X   74.63      70.0  14.68\n",
       "4    AE2B3RH   87.79      82.0  18.86\n",
       "..       ...     ...       ...    ...\n",
       "112  A0KX894   76.85      75.0  14.68\n",
       "113  AOYM4KG   66.48      60.0   17.2\n",
       "114  AZIK4ZA   72.77      66.0   20.8\n",
       "115  AWA2KJK   94.74      95.0  15.29\n",
       "116  AUY8KYW   66.73      63.0  16.74\n",
       "\n",
       "[117 rows x 4 columns]"
      ]
     },
     "execution_count": 201,
     "metadata": {},
     "output_type": "execute_result"
    }
   ],
   "source": [
    "#format train data to dataframe, add HR features and remove the HR data.\n",
    "df = pd.DataFrame(columns=['user', 'hr', 'hr_mean', 'hr_median', 'hr_std'])\n",
    "for i, key in enumerate(loaded_dict.keys()):\n",
    "    df.loc[i, 'user'] = key\n",
    "    for j, sub_key in enumerate(loaded_dict.keys()):\n",
    "        df.loc[j, 'hr'] = np.array([loaded_dict[sub_key]['heartrate']])\n",
    "        df.loc[j, 'hr_mean'] = round(np.mean(df['hr'][j]), 2)\n",
    "        df.loc[j, 'hr_median'] = round(np.median(df['hr'][j]), 2)\n",
    "        df.loc[j, 'hr_std'] = round(np.std(df['hr'][j]), 2)\n",
    "df.drop(['hr'], axis=1, inplace=True)\n",
    "df"
   ]
  },
  {
   "cell_type": "code",
   "execution_count": 202,
   "metadata": {},
   "outputs": [
    {
     "data": {
      "text/html": [
       "<div>\n",
       "<style scoped>\n",
       "    .dataframe tbody tr th:only-of-type {\n",
       "        vertical-align: middle;\n",
       "    }\n",
       "\n",
       "    .dataframe tbody tr th {\n",
       "        vertical-align: top;\n",
       "    }\n",
       "\n",
       "    .dataframe thead th {\n",
       "        text-align: right;\n",
       "    }\n",
       "</style>\n",
       "<table border=\"1\" class=\"dataframe\">\n",
       "  <thead>\n",
       "    <tr style=\"text-align: right;\">\n",
       "      <th></th>\n",
       "      <th>user</th>\n",
       "      <th>hr_mean</th>\n",
       "      <th>hr_median</th>\n",
       "      <th>hr_std</th>\n",
       "    </tr>\n",
       "  </thead>\n",
       "  <tbody>\n",
       "    <tr>\n",
       "      <th>0</th>\n",
       "      <td>test_39</td>\n",
       "      <td>74.56</td>\n",
       "      <td>73.4</td>\n",
       "      <td>10.25</td>\n",
       "    </tr>\n",
       "    <tr>\n",
       "      <th>1</th>\n",
       "      <td>test_28</td>\n",
       "      <td>70.28</td>\n",
       "      <td>69.91</td>\n",
       "      <td>7.04</td>\n",
       "    </tr>\n",
       "    <tr>\n",
       "      <th>2</th>\n",
       "      <td>test_31</td>\n",
       "      <td>68.59</td>\n",
       "      <td>68.0</td>\n",
       "      <td>7.3</td>\n",
       "    </tr>\n",
       "    <tr>\n",
       "      <th>3</th>\n",
       "      <td>test_3</td>\n",
       "      <td>63.34</td>\n",
       "      <td>62.11</td>\n",
       "      <td>7.41</td>\n",
       "    </tr>\n",
       "    <tr>\n",
       "      <th>4</th>\n",
       "      <td>test_1</td>\n",
       "      <td>50.95</td>\n",
       "      <td>50.12</td>\n",
       "      <td>4.64</td>\n",
       "    </tr>\n",
       "  </tbody>\n",
       "</table>\n",
       "</div>"
      ],
      "text/plain": [
       "      user hr_mean hr_median hr_std\n",
       "0  test_39   74.56      73.4  10.25\n",
       "1  test_28   70.28     69.91   7.04\n",
       "2  test_31   68.59      68.0    7.3\n",
       "3   test_3   63.34     62.11   7.41\n",
       "4   test_1   50.95     50.12   4.64"
      ]
     },
     "execution_count": 202,
     "metadata": {},
     "output_type": "execute_result"
    }
   ],
   "source": [
    "#format test data to dataframe, add HR features and remove the HR data.\n",
    "df_test = pd.DataFrame(columns=['user', 'hr', 'hr_mean', 'hr_median', 'hr_std'])\n",
    "for i, key in enumerate(loaded_dict_test.keys()):\n",
    "    df_test.loc[i, 'user'] = key\n",
    "    for j, sub_key in enumerate(loaded_dict_test.keys()):\n",
    "        df_test.loc[j, 'hr'] = np.array([loaded_dict_test[sub_key]['heart_rate']])\n",
    "        df_test.loc[j, 'hr_mean'] = round(np.mean(df_test['hr'][j]), 2)\n",
    "        df_test.loc[j, 'hr_median'] = round(np.median(df_test['hr'][j]), 2)\n",
    "        df_test.loc[j, 'hr_std'] = round(np.std(df_test['hr'][j]), 2)\n",
    "df_test.drop(['hr'], axis=1, inplace=True)\n",
    "df_test.head()"
   ]
  },
  {
   "cell_type": "code",
   "execution_count": 203,
   "metadata": {},
   "outputs": [],
   "source": [
    "#add lables to train and test dataframes\n",
    "df['is_test'] = 0\n",
    "df_test['is_test'] = 1"
   ]
  },
  {
   "cell_type": "code",
   "execution_count": 204,
   "metadata": {},
   "outputs": [
    {
     "data": {
      "text/plain": [
       "(   index     user hr_mean hr_median hr_std  is_test\n",
       " 0      0  APGIB2T   82.54      80.0  10.81        0\n",
       " 1      1  A9ZG5GR   68.06      67.0  11.95        0\n",
       " 2      2  A0N9NV4   81.63      80.0  14.15        0\n",
       " 3      3  AKTGD8X   74.63      70.0  14.68        0\n",
       " 4      4  AE2B3RH   87.79      82.0  18.86        0,\n",
       "      index     user hr_mean hr_median hr_std  is_test\n",
       " 152     35  test_29   57.94      57.0   6.61        1\n",
       " 153     36   test_4   61.62      58.0  11.95        1\n",
       " 154     37   test_6   66.85      66.0   4.88        1\n",
       " 155     38  test_21   67.34     66.69   6.55        1\n",
       " 156     39  test_18   62.31      59.0  11.12        1)"
      ]
     },
     "execution_count": 204,
     "metadata": {},
     "output_type": "execute_result"
    }
   ],
   "source": [
    " #adding the test data to the bottom of the train dataframe\n",
    "df = pd.concat([df, df_test], axis=0).reset_index()\n",
    "df.head(), df.tail()"
   ]
  },
  {
   "cell_type": "code",
   "execution_count": 205,
   "metadata": {},
   "outputs": [
    {
     "name": "stdout",
     "output_type": "stream",
     "text": [
      "2.550982684612775\n"
     ]
    },
    {
     "data": {
      "text/plain": [
       "<AxesSubplot:xlabel='hr_mean', ylabel='hr_std'>"
      ]
     },
     "execution_count": 205,
     "metadata": {},
     "output_type": "execute_result"
    },
    {
     "data": {
      "image/png": "[encoded data removed]",
      "text/plain": [
       "<Figure size 640x480 with 1 Axes>"
      ]
     },
     "metadata": {},
     "output_type": "display_data"
    }
   ],
   "source": [
    "#cluster data\n",
    "X = df.drop(['user'], axis=1)\n",
    "kmedoids_pipeline = Pipeline([\n",
    "        (\"imputer\", SimpleImputer(missing_values=np.nan, strategy='mean')),\n",
    "        (\"scaler\", StandardScaler()),\n",
    "        (\"cluster\", KMedoids(n_clusters=10))\n",
    "        ])\n",
    "clusters = kmedoids_pipeline.fit_predict(X)\n",
    "df['medoid_cluster'] = clusters\n",
    "print(df['medoid_cluster'].std())\n",
    "df['has_model'] = 0\n",
    "sns.scatterplot(x=df['hr_mean'], y=df['hr_std'], hue=df['medoid_cluster'], palette=\"Spectral\", legend=False)"
   ]
  },
  {
   "cell_type": "code",
   "execution_count": 206,
   "metadata": {},
   "outputs": [
    {
     "name": "stderr",
     "output_type": "stream",
     "text": [
      "/var/folders/0r/6jbjzk0n44n_phz8hy1gvsp80000gn/T/ipykernel_59550/91781043.py:5: SettingWithCopyWarning: \n",
      "A value is trying to be set on a copy of a slice from a DataFrame\n",
      "\n",
      "See the caveats in the documentation: https://pandas.pydata.org/pandas-docs/stable/user_guide/indexing.html#returning-a-view-versus-a-copy\n",
      "  df['has_model'][row] = 1\n"
     ]
    }
   ],
   "source": [
    "#label data with models\n",
    "models = ['AQC0L71', 'AYWIEKR', 'AS2MVDL', 'AUY8KYW', 'AOYM4KG', 'AYEFCWQ', 'AKXN5ZZ', 'A3OU183', 'AAXAA7Z', 'A1K5DRI', 'A7EM0B6', 'AHYIJDV', 'AIFDJZB', 'AURCTAK', 'AV2GF3B', 'A4E0D03', 'AJWW3IY', 'A4G0044', 'APGIB2T', 'AMV7EQF', 'AA2KP1S', 'AX6281V', 'A0VFT1N', 'ASFODQR', 'A0NVTRV']\n",
    "for row in df.index:\n",
    "    if df['user'].loc[row] in models:\n",
    "        df['has_model'][row] = 1\n",
    "\n",
    "df.drop(['index'], axis=1, inplace=True)"
   ]
  },
  {
   "cell_type": "code",
   "execution_count": 197,
   "metadata": {},
   "outputs": [
    {
     "data": {
      "text/html": [
       "<div>\n",
       "<style scoped>\n",
       "    .dataframe tbody tr th:only-of-type {\n",
       "        vertical-align: middle;\n",
       "    }\n",
       "\n",
       "    .dataframe tbody tr th {\n",
       "        vertical-align: top;\n",
       "    }\n",
       "\n",
       "    .dataframe thead th {\n",
       "        text-align: right;\n",
       "    }\n",
       "</style>\n",
       "<table border=\"1\" class=\"dataframe\">\n",
       "  <thead>\n",
       "    <tr style=\"text-align: right;\">\n",
       "      <th></th>\n",
       "      <th>user</th>\n",
       "      <th>hr_mean</th>\n",
       "      <th>hr_median</th>\n",
       "      <th>hr_std</th>\n",
       "      <th>is_test</th>\n",
       "      <th>medoid_cluster</th>\n",
       "      <th>has_model</th>\n",
       "    </tr>\n",
       "  </thead>\n",
       "  <tbody>\n",
       "    <tr>\n",
       "      <th>0</th>\n",
       "      <td>APGIB2T</td>\n",
       "      <td>82.54</td>\n",
       "      <td>80.0</td>\n",
       "      <td>10.81</td>\n",
       "      <td>0</td>\n",
       "      <td>2</td>\n",
       "      <td>1</td>\n",
       "    </tr>\n",
       "    <tr>\n",
       "      <th>1</th>\n",
       "      <td>A9ZG5GR</td>\n",
       "      <td>68.06</td>\n",
       "      <td>67.0</td>\n",
       "      <td>11.95</td>\n",
       "      <td>0</td>\n",
       "      <td>4</td>\n",
       "      <td>0</td>\n",
       "    </tr>\n",
       "    <tr>\n",
       "      <th>2</th>\n",
       "      <td>A0N9NV4</td>\n",
       "      <td>81.63</td>\n",
       "      <td>80.0</td>\n",
       "      <td>14.15</td>\n",
       "      <td>0</td>\n",
       "      <td>2</td>\n",
       "      <td>0</td>\n",
       "    </tr>\n",
       "    <tr>\n",
       "      <th>3</th>\n",
       "      <td>AKTGD8X</td>\n",
       "      <td>74.63</td>\n",
       "      <td>70.0</td>\n",
       "      <td>14.68</td>\n",
       "      <td>0</td>\n",
       "      <td>4</td>\n",
       "      <td>0</td>\n",
       "    </tr>\n",
       "    <tr>\n",
       "      <th>4</th>\n",
       "      <td>AE2B3RH</td>\n",
       "      <td>87.79</td>\n",
       "      <td>82.0</td>\n",
       "      <td>18.86</td>\n",
       "      <td>0</td>\n",
       "      <td>6</td>\n",
       "      <td>0</td>\n",
       "    </tr>\n",
       "  </tbody>\n",
       "</table>\n",
       "</div>"
      ],
      "text/plain": [
       "      user hr_mean hr_median hr_std  is_test  medoid_cluster  has_model\n",
       "0  APGIB2T   82.54      80.0  10.81        0               2          1\n",
       "1  A9ZG5GR   68.06      67.0  11.95        0               4          0\n",
       "2  A0N9NV4   81.63      80.0  14.15        0               2          0\n",
       "3  AKTGD8X   74.63      70.0  14.68        0               4          0\n",
       "4  AE2B3RH   87.79      82.0  18.86        0               6          0"
      ]
     },
     "execution_count": 197,
     "metadata": {},
     "output_type": "execute_result"
    }
   ],
   "source": [
    "df.head()"
   ]
  },
  {
   "cell_type": "code",
   "execution_count": null,
   "metadata": {},
   "outputs": [],
   "source": [
    "df['has_model'].value_counts\n"
   ]
  },
  {
   "cell_type": "code",
   "execution_count": null,
   "metadata": {},
   "outputs": [],
   "source": [
    "df_model_clusers = df[df['has_model'] == 1].reset_index().sort_values('medoid_cluster')\n",
    "df_model_clusers.groupby('medoid_cluster')['user'].apply(list).reset_index(name='models for cluster')\n",
    "models_per_cluster = df_model_clusers.groupby('medoid_cluster')['user'].apply(list).reset_index(name='models for cluster').set_index('medoid_cluster')\n",
    "models_per_cluster"
   ]
  },
  {
   "cell_type": "code",
   "execution_count": null,
   "metadata": {},
   "outputs": [],
   "source": [
    "df.to_csv('cluster_information')\n",
    "models_per_cluster.to_csv('mapping of models to clusters')"
   ]
  }
 ],
 "metadata": {
  "kernelspec": {
   "display_name": "Python 3.8.13 ('makeathon')",
   "language": "python",
   "name": "python3"
  },
  "language_info": {
   "codemirror_mode": {
    "name": "ipython",
    "version": 3
   },
   "file_extension": ".py",
   "mimetype": "text/x-python",
   "name": "python",
   "nbconvert_exporter": "python",
   "pygments_lexer": "ipython3",
   "version": "3.8.13"
  },
  "orig_nbformat": 4,
  "vscode": {
   "interpreter": {
    "hash": "1be532f50f8abee3d64c5fdaba5a2ab209055ed4eaf30f06feb85c369fcb37cc"
   }
  }
 },
 "nbformat": 4,
 "nbformat_minor": 2
}
